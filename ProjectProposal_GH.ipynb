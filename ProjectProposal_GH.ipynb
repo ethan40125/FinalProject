{
 "cells": [
  {
   "cell_type": "markdown",
   "metadata": {},
   "source": [
    "# COGS 108 - Project Proposal"
   ]
  },
  {
   "cell_type": "markdown",
   "metadata": {},
   "source": [
    "# Names & GitHub ID\n",
    "\n",
    "- Name: Ethan Chuang\n",
    "- GitHub Username: ethan40125"
   ]
  },
  {
   "cell_type": "markdown",
   "metadata": {},
   "source": [
    "# Research Question"
   ]
  },
  {
   "cell_type": "markdown",
   "metadata": {},
   "source": [
    "What is the relationship between the number of daily Covid-19 cases (both national and San Diego) and park attendance levels in San Diego (park sizes of community parks and smaller, see below for specifics)?   "
   ]
  },
  {
   "cell_type": "markdown",
   "metadata": {},
   "source": [
    "## Background and Prior Work"
   ]
  },
  {
   "cell_type": "markdown",
   "metadata": {},
   "source": [
    "With the onset of a global pandemic, the United States Centers for Disease Control and Prevention (CDC) has imposed various travel and outdoor limitations and restrictions to U.S. citizens, including the types of outdoor activities one can do, precautions one should take, and limiting guidelines for social interactions (1)(2). For example, on March 15, the CDC \"advised no gatherings of 50 or more people in the United States over the next eight weeks. The recommendation included weddings, festivals, parades, concerts, sporting events and conferences. (3)\"\n",
    "\n",
    "Due to the shortage of outdoor options one can choose from, people may turn toward local parks for outdoor recreation and doses of sunlight and fresh air, as an outdoor environment poses a lower risk of viral transmission than an indoor environment (4). However, as the daily number of U.S. Covid-19 cases continue to rise, one may wonder whether the surge in cases discourages people from visiting crowded parks, as the CDC reports significant decreases in human mobility with the spread of Covid-19 (5). By studying the relationship between the number of daily Covid-19 cases and park attendance levels using data, the research paves the way for deeper understanding of the human psych (whether humans' urge for outdoor recreation supercedes their fear of Covid-19), and whether there is a link between surging cases and increased park attendance. To make the data in this study more maneageable and consistent, this study will focus only on parks in the San Diego County area that are within the size of community parks (e.g. includes city parks, playgrounds, but barring national and state parks) while the daily cases of the national scale and San Diego county to see which relationship is stronger (national cases vs. attendance; San Diego cases vs. attendance). For further details, please email echuang@ucsd.edu.        \n",
    "\n",
    "References (include links):\n",
    "- 1)https://www.cdc.gov/coronavirus/2019-ncov/travelers/travel-during-covid19.html\n",
    "- 2)https://www.cdc.gov/coronavirus/2019-ncov/daily-life-coping/going-out.html\n",
    "- 3)https://www.nytimes.com/article/coronavirus-timeline.html\n",
    "- 4)https://www.medrxiv.org/content/medrxiv/early/2020/09/10/2020.09.04.20188417.1.full.pdf\n",
    "- 5)https://covid.cdc.gov/covid-data-tracker/#mobility"
   ]
  },
  {
   "cell_type": "markdown",
   "metadata": {},
   "source": [
    "# Hypothesis\n"
   ]
  },
  {
   "cell_type": "markdown",
   "metadata": {},
   "source": [
    "I hypothesize that increased daily number of Covid-19 cases may encourage more people to attend park spaces as outdoor areas and well ventilated areas pose a significantly lower risk of Covid-19 transmission than indoor areas. However, once the park reaches a certain level of crowdedness, the attendance numbers will begin to level off because people are afraid to be around crowded spaces, even when outdoors. "
   ]
  },
  {
   "cell_type": "markdown",
   "metadata": {},
   "source": [
    "# Data"
   ]
  },
  {
   "cell_type": "markdown",
   "metadata": {},
   "source": [
    "The ideal dataset would include two quantitative variables: the daily number of Covid-19 cases in San Diego and the human attendance counts of individual parks in San Diego. The data will be collected from the CDC and San Diego county official website, as well as the libguides database resources of the UC San Diego library, and narrowed down to what is relevant to this data science project. Larger observations are preferred, though consistency among data and how much it is relevant to this project will be prioritized in consideration. These data would be stored as a csv file, and they will be organized, cleaned, and analyzed inside a Jupyter Notebook. "
   ]
  },
  {
   "cell_type": "markdown",
   "metadata": {},
   "source": [
    "# Ethics & Privacy"
   ]
  },
  {
   "cell_type": "markdown",
   "metadata": {},
   "source": [
    "The quantitative data collection for both my variables - the daily number of Covid-19 cases in San Diego and the attendance counts of individual parks in San Diego - may be collected from the websites hosted by the CDC and San Diego government offices, both of which are in the public domain. \n",
    "Any information that will allow for personal identification will be converted to an ID to be anonymized.\n",
    "The reliability of the data depends on the data collection of the government agencies.\n",
    "Potential biases may be imposed when the results of this study is extrapolated to the national scale, as the climate and demographics of San Diego county doues not accurately represent that of the United States. \n",
    "If you feel your ethics or privacy is violated, please contact echuang@ucsd.edu."
   ]
  },
  {
   "cell_type": "code",
   "execution_count": null,
   "metadata": {},
   "outputs": [],
   "source": []
  }
 ],
 "metadata": {
  "kernelspec": {
   "display_name": "Python 3",
   "language": "python",
   "name": "python3"
  },
  "language_info": {
   "codemirror_mode": {
    "name": "ipython",
    "version": 3
   },
   "file_extension": ".py",
   "mimetype": "text/x-python",
   "name": "python",
   "nbconvert_exporter": "python",
   "pygments_lexer": "ipython3",
   "version": "3.7.1"
  }
 },
 "nbformat": 4,
 "nbformat_minor": 2
}
